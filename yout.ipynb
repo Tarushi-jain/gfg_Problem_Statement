{
 "cells": [
  {
   "cell_type": "code",
   "execution_count": 23,
   "metadata": {},
   "outputs": [],
   "source": [
    "import pandas as pd \n",
    "from datetime import datetime, timedelta\n"
   ]
  },
  {
   "cell_type": "markdown",
   "metadata": {},
   "source": [
    "2. Create a pandas data frame with columns name as videos title, views, Length of videos, and videos link"
   ]
  },
  {
   "cell_type": "code",
   "execution_count": 36,
   "metadata": {},
   "outputs": [
    {
     "data": {
      "text/html": [
       "<div>\n",
       "<style scoped>\n",
       "    .dataframe tbody tr th:only-of-type {\n",
       "        vertical-align: middle;\n",
       "    }\n",
       "\n",
       "    .dataframe tbody tr th {\n",
       "        vertical-align: top;\n",
       "    }\n",
       "\n",
       "    .dataframe thead th {\n",
       "        text-align: right;\n",
       "    }\n",
       "</style>\n",
       "<table border=\"1\" class=\"dataframe\">\n",
       "  <thead>\n",
       "    <tr style=\"text-align: right;\">\n",
       "      <th></th>\n",
       "      <th>VideoTitle</th>\n",
       "      <th>Video Url</th>\n",
       "      <th>Views</th>\n",
       "      <th>Posted</th>\n",
       "      <th>Videolength</th>\n",
       "    </tr>\n",
       "  </thead>\n",
       "  <tbody>\n",
       "    <tr>\n",
       "      <th>0</th>\n",
       "      <td>All Your Queries Answered | DSA to Development...</td>\n",
       "      <td>https://www.youtube.com/watch?v=kHBzDvj3D2U</td>\n",
       "      <td>502</td>\n",
       "      <td>10 hours ago</td>\n",
       "      <td>3:47</td>\n",
       "    </tr>\n",
       "    <tr>\n",
       "      <th>1</th>\n",
       "      <td>Complete School Guide for CBSE | Free Resource...</td>\n",
       "      <td>https://www.youtube.com/watch?v=1ECMlxC6jbs</td>\n",
       "      <td>498</td>\n",
       "      <td>7 days ago</td>\n",
       "      <td>0:56</td>\n",
       "    </tr>\n",
       "    <tr>\n",
       "      <th>2</th>\n",
       "      <td>Unraveling the Geek-a-thon: The What, How, and...</td>\n",
       "      <td>https://www.youtube.com/watch?v=6e0v_NhsFMQ</td>\n",
       "      <td>437</td>\n",
       "      <td>11 days ago</td>\n",
       "      <td>45:44</td>\n",
       "    </tr>\n",
       "    <tr>\n",
       "      <th>3</th>\n",
       "      <td>GeeksforGeeks Offline Classroom Program | Now ...</td>\n",
       "      <td>https://www.youtube.com/watch?v=2bPiFkt3Nmg</td>\n",
       "      <td>8.6K</td>\n",
       "      <td>13 days ago</td>\n",
       "      <td>0:28</td>\n",
       "    </tr>\n",
       "    <tr>\n",
       "      <th>4</th>\n",
       "      <td>First Ever KBC at our Offline Classes | Geeksf...</td>\n",
       "      <td>https://www.youtube.com/watch?v=chYg2EAKW2A</td>\n",
       "      <td>594</td>\n",
       "      <td>2 weeks ago</td>\n",
       "      <td>0:37</td>\n",
       "    </tr>\n",
       "  </tbody>\n",
       "</table>\n",
       "</div>"
      ],
      "text/plain": [
       "                                          VideoTitle  \\\n",
       "0  All Your Queries Answered | DSA to Development...   \n",
       "1  Complete School Guide for CBSE | Free Resource...   \n",
       "2  Unraveling the Geek-a-thon: The What, How, and...   \n",
       "3  GeeksforGeeks Offline Classroom Program | Now ...   \n",
       "4  First Ever KBC at our Offline Classes | Geeksf...   \n",
       "\n",
       "                                     Video Url  Views        Posted  \\\n",
       "0  https://www.youtube.com/watch?v=kHBzDvj3D2U   502   10 hours ago   \n",
       "1  https://www.youtube.com/watch?v=1ECMlxC6jbs   498     7 days ago   \n",
       "2  https://www.youtube.com/watch?v=6e0v_NhsFMQ   437    11 days ago   \n",
       "3  https://www.youtube.com/watch?v=2bPiFkt3Nmg  8.6K    13 days ago   \n",
       "4  https://www.youtube.com/watch?v=chYg2EAKW2A   594    2 weeks ago   \n",
       "\n",
       "  Videolength  \n",
       "0        3:47  \n",
       "1        0:56  \n",
       "2       45:44  \n",
       "3        0:28  \n",
       "4        0:37  "
      ]
     },
     "execution_count": 36,
     "metadata": {},
     "output_type": "execute_result"
    }
   ],
   "source": [
    "df = pd.read_csv('yt.csv')\n",
    "df.head()"
   ]
  },
  {
   "cell_type": "markdown",
   "metadata": {},
   "source": [
    "1. Number of videos in the past 6 months from the start date. Must mention the dates in the solution"
   ]
  },
  {
   "cell_type": "code",
   "execution_count": 37,
   "metadata": {},
   "outputs": [
    {
     "name": "stdout",
     "output_type": "stream",
     "text": [
      "Number of videos in the past 6 months from 2023-02-07 to 2023-08-07: 36\n"
     ]
    }
   ],
   "source": [
    "\n",
    "import re\n",
    "\n",
    "start_date = datetime(2023, 2, 7)  \n",
    "def convert_posted_to_datetime(posted_str):\n",
    "    match = re.match(r'(\\d+) (\\w+) ago', posted_str)\n",
    "    if match:\n",
    "        value = int(match.group(1))\n",
    "        unit = match.group(2)\n",
    "\n",
    "        if unit == 'hour' or unit == 'hours':\n",
    "            timedelta_value = timedelta(hours=value)\n",
    "        elif unit == 'day' or unit == 'days':\n",
    "            timedelta_value = timedelta(days=value)\n",
    "        elif unit == 'week' or unit == 'weeks':\n",
    "            timedelta_value = timedelta(weeks=value)\n",
    "        elif unit == 'month' or unit == 'months':\n",
    "            timedelta_value = timedelta(days=value * 30)\n",
    "        elif unit == 'year' or unit == 'years':\n",
    "            timedelta_value = timedelta(days=value * 12*365)\n",
    "        else:\n",
    "            raise ValueError(f\"Unknown time unit: {unit}\")\n",
    "\n",
    "        return datetime.now() - timedelta_value\n",
    "    else:\n",
    "        raise ValueError(\"Invalid 'Posted' string format\")\n",
    "\n",
    "df['Posted'] = df['Posted'].apply(convert_posted_to_datetime)\n",
    "current_date = datetime.now()\n",
    "videos = df[(df['Posted'] > start_date) & (df['Posted'] <= current_date)]\n",
    "last_six_months = videos.shape[0]\n",
    "print(f\"Number of videos in the past 6 months from {start_date.date()} to {current_date.date()}: {last_six_months}\")\n"
   ]
  },
  {
   "cell_type": "markdown",
   "metadata": {},
   "source": [
    "3.Name the most viewed topics in the past 6 months."
   ]
  },
  {
   "cell_type": "code",
   "execution_count": 38,
   "metadata": {},
   "outputs": [
    {
     "name": "stdout",
     "output_type": "stream",
     "text": [
      "Most viewed topics in the past 6 months:\n",
      "                                           VideoTitle  Views\n",
      "9   Full Stack Development | LIVE Classes | Geeksf...   91K \n",
      "16  Job Fair for Students | Till 25th May Only | G...   82K \n",
      "11  GeeksforGeeks Offline Classroom Program | Now ...  8.6K \n",
      "31  🎊Celebrating Bi-Wizard's First Anniversary🎊 | ...   613 \n",
      "7   Explore GeeksforGeeks Hiring Solutions | For T...   595 \n",
      "8   First Ever KBC at our Offline Classes | Geeksf...   594 \n",
      "0   All Your Queries Answered | DSA to Development...   502 \n",
      "2   CodeCast Ep. 3 | Learn all About Competitive P...  5.8K \n",
      "5   DSA To Development: A Complete Coding Guide | ...   49K \n",
      "3   Complete School Guide for CBSE | Free Resource...   498 \n",
      "27  Unraveling the Geek-a-thon: The What, How, and...   437 \n",
      "15  How to become a Full Stack Developer | Geeksfo...  4.7K \n",
      "20            React VS Angular VS Vue | GeeksforGeeks    3K \n",
      "4          Create Your Own Apps Today | GeeksforGeeks   34K \n",
      "13  How to Use GPT 4 | How it's better from GPT 3 ...  3.9K \n",
      "10  Gate 2024: Prepare for Success! | GATE CSE 202...   27K \n",
      "30  What is Arrays | Arrays Explained | New Video ...  2.5K \n",
      "23  Solving For India Hackathon | @googlecloud X A...  2.4K \n",
      "21  Roadmap To Master Recursion? Roadmap To Master...  2.4K \n",
      "25                Transformers in NLP | GeeksforGeeks  2.2K \n",
      "29  What Is Web Scraping & What It Is Used For | H...    1K \n",
      "19  Queue Practice Questions (Updated) | DSA Conce...    1K \n",
      "26  UI/UX Trends every Startup must know! | @thege...    1K \n",
      "6                    Ernie vs ChatGPT | GeeksforGeeks    1K \n",
      "12                Hire Best Talent with GeeksforGeeks   14K \n",
      "17  OpenAI's ChatGPT & GPT 4 | Google's BARD AI | ...  1.9K \n",
      "1   An Opportunity for Recruiters to Hire Top Tech...  1.7K \n",
      "22  Roadmap to Amazon | Twinkle Bajaj - SDE at Amazon  1.7K \n",
      "28                  Web 3.0 Explained | GeeksforGeeks  1.5K \n",
      "18    Python Libraries | Data Science | GeeksforGeeks  1.2K \n",
      "24  Start your writing Journey | Geek Author Badge...  1.2K \n",
      "14  How to avoid getting Laid Off | ft. Dr. Sneha ...  1.1K \n"
     ]
    }
   ],
   "source": [
    "\n",
    "start_date = current_date - timedelta(days=180)  \n",
    "videos = df[(df['Posted'] > start_date) & (df['Posted'] <= current_date)]\n",
    "most_viewed_topics = videos.groupby('VideoTitle')['Views'].sum().reset_index()\n",
    "most_viewed_topics = most_viewed_topics.sort_values(by='Views', ascending=False)\n",
    "print(\"Most viewed topics in the past 6 months:\")\n",
    "print(most_viewed_topics)\n"
   ]
  },
  {
   "cell_type": "markdown",
   "metadata": {},
   "source": [
    "4. Name the topics with the highest video length."
   ]
  },
  {
   "cell_type": "code",
   "execution_count": 43,
   "metadata": {},
   "outputs": [
    {
     "name": "stdout",
     "output_type": "stream",
     "text": [
      "Topic with the highest video length: Unraveling the Geek-a-thon: The What, How, and Why | Geek-A-Thon | GeeksforGeeks\n"
     ]
    }
   ],
   "source": [
    "\n",
    "def convert_video_length_to_minutes(video_length_str):\n",
    "    hours, minutes = map(int, video_length_str.split(':'))\n",
    "    total_minutes = hours * 60 + minutes\n",
    "    return total_minutes\n",
    "\n",
    "df['VideoLengthInMinutes'] = df['Videolength'].apply(convert_video_length_to_minutes)\n",
    "max_video_length_index = df['VideoLengthInMinutes'].idxmax()\n",
    "topic_with_highest_length = df.loc[max_video_length_index, 'VideoTitle']\n",
    "\n",
    "print(\"Topic with the highest video length:\", topic_with_highest_length)"
   ]
  },
  {
   "cell_type": "markdown",
   "metadata": {},
   "source": [
    "5. Make a comparison between the number of views and video length using a Graph."
   ]
  },
  {
   "cell_type": "code",
   "execution_count": 47,
   "metadata": {},
   "outputs": [
    {
     "data": {
      "image/png": "[encoded data removed]",
      "text/plain": [
       "<Figure size 720x432 with 1 Axes>"
      ]
     },
     "metadata": {
      "needs_background": "light"
     },
     "output_type": "display_data"
    }
   ],
   "source": [
    "import matplotlib.pyplot as plt\n",
    "plt.figure(figsize=(10, 6))\n",
    "plt.scatter(df['Views'], df['VideoLengthInMinutes'], s=100, alpha=0.5)\n",
    "plt.xlabel('Number of Views')\n",
    "plt.ylabel('Video Length (minutes)')\n",
    "plt.title('Comparison between Number of Views and Video Length')\n",
    "plt.grid(True)\n",
    "plt.show()"
   ]
  }
 ],
 "metadata": {
  "kernelspec": {
   "display_name": "base",
   "language": "python",
   "name": "python3"
  },
  "language_info": {
   "codemirror_mode": {
    "name": "ipython",
    "version": 3
   },
   "file_extension": ".py",
   "mimetype": "text/x-python",
   "name": "python",
   "nbconvert_exporter": "python",
   "pygments_lexer": "ipython3",
   "version": "3.9.7"
  },
  "orig_nbformat": 4
 },
 "nbformat": 4,
 "nbformat_minor": 2
}
